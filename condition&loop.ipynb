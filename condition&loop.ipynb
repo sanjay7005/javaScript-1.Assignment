{
  "nbformat": 4,
  "nbformat_minor": 0,
  "metadata": {
    "colab": {
      "provenance": []
    },
    "kernelspec": {
      "name": "python3",
      "display_name": "Python 3"
    },
    "language_info": {
      "name": "python"
    }
  },
  "cells": [
    {
      "cell_type": "code",
      "execution_count": null,
      "metadata": {
        "id": "Mk9XPr2Axdn6"
      },
      "outputs": [],
      "source": []
    },
    {
      "cell_type": "markdown",
      "source": [
        "Q1. What are conditional statements? Explain conditional statements with syntax and examples.\n",
        "\n",
        "Conditional statements in JavaScript are used to perform different actions based on different conditions. They help your code make decisions\n",
        "\n",
        "# **- Conditional Statement in java Scripit.**\n",
        "1. if Statement.\n",
        "\n",
        "\n"
      ],
      "metadata": {
        "id": "wZfZX0EVx-wE"
      }
    },
    {
      "cell_type": "code",
      "source": [
        "let x=10;\n",
        "if(x>5)\n",
        "{\n",
        " console.log(\"True\");\n",
        "}\n",
        "\n"
      ],
      "metadata": {
        "id": "JQkmMoOTJ-Kl"
      },
      "execution_count": null,
      "outputs": []
    },
    {
      "cell_type": "markdown",
      "source": [
        "if condition is true then enter inside loop."
      ],
      "metadata": {
        "id": "WpiDNBdcK0KT"
      }
    },
    {
      "cell_type": "markdown",
      "source": [
        "2. if else Statement.\n"
      ],
      "metadata": {
        "id": "r_rTAng7Kg6n"
      }
    },
    {
      "cell_type": "code",
      "source": [
        "let x=14;\n",
        "if(x<15)\n",
        "{\n",
        "    console.log(\"True\");\n",
        "}\n",
        "els\n",
        "{\n",
        "    console.log(\"false\");\n",
        "}\n"
      ],
      "metadata": {
        "id": "ObkQnt1qK8QU"
      },
      "execution_count": null,
      "outputs": []
    },
    {
      "cell_type": "markdown",
      "source": [],
      "metadata": {
        "id": "8w9KJp-WLg92"
      }
    },
    {
      "cell_type": "code",
      "source": [
        "if condition is true then enter the inside the loop.\n",
        "and if condition is false then else condition will be excuted.\n",
        "\n"
      ],
      "metadata": {
        "id": "g9T4MpL-Kvxl"
      },
      "execution_count": null,
      "outputs": []
    },
    {
      "cell_type": "markdown",
      "source": [
        "3. if else if else Statement.\n",
        "\n"
      ],
      "metadata": {
        "id": "gNHGhghIL9Kd"
      }
    },
    {
      "cell_type": "code",
      "source": [
        "let age=18;\n",
        "\n",
        "if(age>=18)\n",
        "{\n",
        "    console.log(\"you are eligible for vote\");\n",
        "}\n",
        " else if (age>=10)\n",
        "{\n",
        "    console.log(\"you are not eligible for vote\");\n",
        "\n",
        "}\n",
        "else{\n",
        "    console.log(\"you are kids\");\n",
        "}\n",
        "\n"
      ],
      "metadata": {
        "id": "l5RyMlInMTHw"
      },
      "execution_count": null,
      "outputs": []
    },
    {
      "cell_type": "markdown",
      "source": [
        "5. switch Statement.\n",
        "\n"
      ],
      "metadata": {
        "id": "VELfa0hrOCxe"
      }
    },
    {
      "cell_type": "code",
      "source": [
        "let day=3;\n",
        "switch(day){\n",
        "    case 1:\n",
        "    console.log(\"monday\");\n",
        "\n",
        "    case 2:\n",
        "    console.log(\"Tuesday\");\n",
        "\n",
        "    case 3:\n",
        "    console.log(\"Wednesday\");\n",
        "\n",
        "    default :\n",
        "    console.log(\"case not matching\");\n",
        "}\n",
        "\n",
        "\n"
      ],
      "metadata": {
        "id": "9Op0laOwOKME"
      },
      "execution_count": null,
      "outputs": []
    },
    {
      "cell_type": "markdown",
      "source": [
        "6. Ternary operator:\n",
        "\n"
      ],
      "metadata": {
        "id": "fslf8ZmaPWj1"
      }
    },
    {
      "cell_type": "code",
      "source": [
        "let age=23;\n",
        "let result=(age>=18)?\"Adult\":\"Minnor\";\n",
        "{\n",
        "    console.log(result);\n",
        "}\n",
        "\n",
        "\n"
      ],
      "metadata": {
        "id": "dUCXcJ4vPd7z"
      },
      "execution_count": null,
      "outputs": []
    },
    {
      "cell_type": "markdown",
      "source": [
        "Q2. Write a program that grades students based on their marks\n",
        " If greater than 90 then A Grade\n",
        " If between 70 and 90 then a B grade\n",
        " If between 50 and 70 then a C grade\n",
        " Below 50 then an F grade\n",
        "\n",
        "\n"
      ],
      "metadata": {
        "id": "aT3eT6vPRA7t"
      }
    },
    {
      "cell_type": "code",
      "source": [
        "let marks =45;\n",
        "\n",
        "if (marks > 90) {\n",
        "    console.log(\"Grade: A\");\n",
        "} else if (marks > 70 && marks <= 90) {\n",
        "    console.log(\"Grade: B\");\n",
        "} else if (marks > 50 && marks <= 70) {\n",
        "    console.log(\"Grade: C\");\n",
        "} else {\n",
        "    console.log(\"Try next time\");\n",
        "}\n",
        "\n",
        "\n"
      ],
      "metadata": {
        "id": "ThPUuoCFXUEW"
      },
      "execution_count": null,
      "outputs": []
    },
    {
      "cell_type": "markdown",
      "source": [
        "Q3. What are loops, and what do we need them? Explain different types of loops with their syntax and\n",
        "examples.\n",
        "\n",
        "- Imagine you want to print \"Hello\" 100 times — writing console.log(\"Hello\"); 100 times would be silly, right? Instead, we use a loop to repeat the action efficiently.\n",
        "\n",
        "\n",
        "\n"
      ],
      "metadata": {
        "id": "FiEbRo70XVvU"
      }
    },
    {
      "cell_type": "markdown",
      "source": [
        "1.for loop\n",
        "\n"
      ],
      "metadata": {
        "id": "2BbUjeEwX5ic"
      }
    },
    {
      "cell_type": "code",
      "source": [
        "for(let i=0;i<15;i++)\n",
        "{\n",
        "    console.log(i);\n",
        "}\n",
        "\n"
      ],
      "metadata": {
        "id": "W3SkZHZmX-hc"
      },
      "execution_count": null,
      "outputs": []
    },
    {
      "cell_type": "markdown",
      "source": [
        "2. while.\n",
        "\n",
        "\n"
      ],
      "metadata": {
        "id": "ADM_fmXjYZp-"
      }
    },
    {
      "cell_type": "code",
      "source": [
        "let i=1;\n",
        "while(i<5){\n",
        "    console.log(\"PwSkills\",i);\n",
        "    i++;\n",
        "}\n",
        "\n"
      ],
      "metadata": {
        "id": "XeLxi9HIYvPM"
      },
      "execution_count": null,
      "outputs": []
    },
    {
      "cell_type": "markdown",
      "source": [
        "3.do while.\n",
        "\n"
      ],
      "metadata": {
        "id": "A44dwVVeZaTu"
      }
    },
    {
      "cell_type": "code",
      "source": [
        "let i=0\n",
        "do{\n",
        "    console.log(\"PW_AURA\",i);\n",
        "      i++;\n",
        "}\n",
        "while(i<5);\n",
        "\n",
        "\n"
      ],
      "metadata": {
        "id": "qAlusbb8Zc3d"
      },
      "execution_count": null,
      "outputs": []
    },
    {
      "cell_type": "markdown",
      "source": [
        "Q4. Generate numbers between any 2 given numbers.\n",
        "\n",
        "Ex\n",
        "const num1 = 10;\n",
        " const num2 = 25;\n",
        "\n",
        ""
      ],
      "metadata": {
        "id": "k7ieZWz1Z6eS"
      }
    },
    {
      "cell_type": "code",
      "source": [
        "let i=11\n",
        "do{\n",
        "    console.log(i);\n",
        "      i++;\n",
        "}\n",
        "while(i<=25);\n",
        "\n",
        "\n",
        "\n"
      ],
      "metadata": {
        "id": "F1wVrSpcaL50"
      },
      "execution_count": null,
      "outputs": []
    },
    {
      "cell_type": "markdown",
      "source": [
        "Q5. Use the while loop to print numbers from 1 to 25 in ascending and descending order.\n",
        "\n"
      ],
      "metadata": {
        "id": "s0gdt_Kca1Ht"
      }
    },
    {
      "cell_type": "code",
      "source": [
        "\n",
        "    let i=1\n",
        "while(i<=25)//Accending order\n",
        "{\n",
        "    console.log(i);\n",
        "      i++;\n",
        "}\n",
        "\n",
        "console.log(\"-----Decending order---\")\n",
        "let x=25;\n",
        "while(x >=1)//deccending order\n",
        "{\n",
        "    console.log(x);\n",
        "      x--;\n",
        "}"
      ],
      "metadata": {
        "id": "zTQfyZnfa_GK"
      },
      "execution_count": null,
      "outputs": []
    }
  ]
}